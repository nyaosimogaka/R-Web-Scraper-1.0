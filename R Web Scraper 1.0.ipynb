{
 "cells": [
  {
   "cell_type": "markdown",
   "metadata": {},
   "source": [
    "# WEB SCRAPER 1.0\n",
    "\n",
    "This Notebook is a demonstration of simple html web scraping using R"
   ]
  },
  {
   "cell_type": "code",
   "execution_count": 1,
   "metadata": {},
   "outputs": [
    {
     "name": "stderr",
     "output_type": "stream",
     "text": [
      "Loading required package: xml2\n",
      "\n",
      "-- \u001b[1mAttaching packages\u001b[22m --------------------------------------- tidyverse 1.3.0 --\n",
      "\n",
      "\u001b[32mv\u001b[39m \u001b[34mggplot2\u001b[39m 3.3.0     \u001b[32mv\u001b[39m \u001b[34mpurrr  \u001b[39m 0.3.4\n",
      "\u001b[32mv\u001b[39m \u001b[34mtibble \u001b[39m 3.0.1     \u001b[32mv\u001b[39m \u001b[34mdplyr  \u001b[39m 0.8.5\n",
      "\u001b[32mv\u001b[39m \u001b[34mtidyr  \u001b[39m 1.0.2     \u001b[32mv\u001b[39m \u001b[34mstringr\u001b[39m 1.4.0\n",
      "\u001b[32mv\u001b[39m \u001b[34mreadr  \u001b[39m 1.3.1     \u001b[32mv\u001b[39m \u001b[34mforcats\u001b[39m 0.5.0\n",
      "\n",
      "-- \u001b[1mConflicts\u001b[22m ------------------------------------------ tidyverse_conflicts() --\n",
      "\u001b[31mx\u001b[39m \u001b[34mdplyr\u001b[39m::\u001b[32mfilter()\u001b[39m         masks \u001b[34mstats\u001b[39m::filter()\n",
      "\u001b[31mx\u001b[39m \u001b[34mreadr\u001b[39m::\u001b[32mguess_encoding()\u001b[39m masks \u001b[34mrvest\u001b[39m::guess_encoding()\n",
      "\u001b[31mx\u001b[39m \u001b[34mdplyr\u001b[39m::\u001b[32mlag()\u001b[39m            masks \u001b[34mstats\u001b[39m::lag()\n",
      "\u001b[31mx\u001b[39m \u001b[34mpurrr\u001b[39m::\u001b[32mpluck()\u001b[39m          masks \u001b[34mrvest\u001b[39m::pluck()\n",
      "\n"
     ]
    }
   ],
   "source": [
    "#Load the libraries\n",
    "library(rvest)\n",
    "library(tidyverse)\n",
    "library(dplyr)"
   ]
  },
  {
   "cell_type": "code",
   "execution_count": 2,
   "metadata": {},
   "outputs": [],
   "source": [
    "#Create a sequence of numbers from 1 to 10 (after careful inspection of the web page(s) to scrape)\n",
    "jump <- seq(1,10)"
   ]
  },
  {
   "cell_type": "code",
   "execution_count": 3,
   "metadata": {},
   "outputs": [],
   "source": [
    "#Get the URLs of all the pages to scrape\n",
    "pages <- paste0(\"http://quotes.toscrape.com/page/\", jump)"
   ]
  },
  {
   "cell_type": "code",
   "execution_count": 4,
   "metadata": {},
   "outputs": [],
   "source": [
    "#Extract Quotes from the web pages\n",
    "Quote <- lapply(pages, function(i) {\n",
    "  webpage <- read_html(i)\n",
    "  Quotes <- html_nodes(webpage, \".text\") %>%\n",
    "    html_text()\n",
    "})"
   ]
  },
  {
   "cell_type": "code",
   "execution_count": 5,
   "metadata": {},
   "outputs": [],
   "source": [
    "#Extract Authors from the web pages\n",
    "Author <- lapply(pages, function(i) {\n",
    "  webpage <- read_html(i)\n",
    "  Persona <- html_nodes(webpage, \".author\") %>%\n",
    "    html_text()\n",
    "  \n",
    "})"
   ]
  },
  {
   "cell_type": "code",
   "execution_count": 6,
   "metadata": {},
   "outputs": [],
   "source": [
    "#EXtract the scraped quotes from a list of lists to a single vector\n",
    "QuoteV <- Quote %>%\n",
    "  map(as.data.frame) %>%\n",
    "  bind_rows()"
   ]
  },
  {
   "cell_type": "code",
   "execution_count": 7,
   "metadata": {},
   "outputs": [],
   "source": [
    "#Extract the scraped authors from a list of lists to a single vector\n",
    "AuthorV <- Author %>%\n",
    "  map(as.data.frame) %>%\n",
    "  bind_rows()"
   ]
  },
  {
   "cell_type": "code",
   "execution_count": 8,
   "metadata": {},
   "outputs": [],
   "source": [
    "#Create a dataframe with the QUote and the respective author\n",
    "DF <- data.frame(QuoteV, AuthorV)"
   ]
  },
  {
   "cell_type": "code",
   "execution_count": 9,
   "metadata": {},
   "outputs": [
    {
     "data": {
      "text/html": [
       "<table>\n",
       "<caption>A data.frame: 6 × 2</caption>\n",
       "<thead>\n",
       "\t<tr><th></th><th scope=col>.x..i..</th><th scope=col>.x..i...1</th></tr>\n",
       "\t<tr><th></th><th scope=col>&lt;chr&gt;</th><th scope=col>&lt;chr&gt;</th></tr>\n",
       "</thead>\n",
       "<tbody>\n",
       "\t<tr><th scope=row>1</th><td>“The world as we have created it is a process of our thinking. It cannot be changed without changing our thinking.”                </td><td>Albert Einstein</td></tr>\n",
       "\t<tr><th scope=row>2</th><td>“It is our choices, Harry, that show what we truly are, far more than our abilities.”                                              </td><td>J.K. Rowling   </td></tr>\n",
       "\t<tr><th scope=row>3</th><td>“There are only two ways to live your life. One is as though nothing is a miracle. The other is as though everything is a miracle.”</td><td>Albert Einstein</td></tr>\n",
       "\t<tr><th scope=row>4</th><td>“The person, be it gentleman or lady, who has not pleasure in a good novel, must be intolerably stupid.”                           </td><td>Jane Austen    </td></tr>\n",
       "\t<tr><th scope=row>5</th><td>“Imperfection is beauty, madness is genius and it's better to be absolutely ridiculous than absolutely boring.”                    </td><td>Marilyn Monroe </td></tr>\n",
       "\t<tr><th scope=row>6</th><td>“Try not to become a man of success. Rather become a man of value.”                                                                </td><td>Albert Einstein</td></tr>\n",
       "</tbody>\n",
       "</table>\n"
      ],
      "text/latex": [
       "A data.frame: 6 × 2\n",
       "\\begin{tabular}{r|ll}\n",
       "  & .x..i.. & .x..i...1\\\\\n",
       "  & <chr> & <chr>\\\\\n",
       "\\hline\n",
       "\t1 & “The world as we have created it is a process of our thinking. It cannot be changed without changing our thinking.”                 & Albert Einstein\\\\\n",
       "\t2 & “It is our choices, Harry, that show what we truly are, far more than our abilities.”                                               & J.K. Rowling   \\\\\n",
       "\t3 & “There are only two ways to live your life. One is as though nothing is a miracle. The other is as though everything is a miracle.” & Albert Einstein\\\\\n",
       "\t4 & “The person, be it gentleman or lady, who has not pleasure in a good novel, must be intolerably stupid.”                            & Jane Austen    \\\\\n",
       "\t5 & “Imperfection is beauty, madness is genius and it's better to be absolutely ridiculous than absolutely boring.”                     & Marilyn Monroe \\\\\n",
       "\t6 & “Try not to become a man of success. Rather become a man of value.”                                                                 & Albert Einstein\\\\\n",
       "\\end{tabular}\n"
      ],
      "text/markdown": [
       "\n",
       "A data.frame: 6 × 2\n",
       "\n",
       "| <!--/--> | .x..i.. &lt;chr&gt; | .x..i...1 &lt;chr&gt; |\n",
       "|---|---|---|\n",
       "| 1 | “The world as we have created it is a process of our thinking. It cannot be changed without changing our thinking.”                 | Albert Einstein |\n",
       "| 2 | “It is our choices, Harry, that show what we truly are, far more than our abilities.”                                               | J.K. Rowling    |\n",
       "| 3 | “There are only two ways to live your life. One is as though nothing is a miracle. The other is as though everything is a miracle.” | Albert Einstein |\n",
       "| 4 | “The person, be it gentleman or lady, who has not pleasure in a good novel, must be intolerably stupid.”                            | Jane Austen     |\n",
       "| 5 | “Imperfection is beauty, madness is genius and it's better to be absolutely ridiculous than absolutely boring.”                     | Marilyn Monroe  |\n",
       "| 6 | “Try not to become a man of success. Rather become a man of value.”                                                                 | Albert Einstein |\n",
       "\n"
      ],
      "text/plain": [
       "  .x..i..                                                                                                                            \n",
       "1 “The world as we have created it is a process of our thinking. It cannot be changed without changing our thinking.”                \n",
       "2 “It is our choices, Harry, that show what we truly are, far more than our abilities.”                                              \n",
       "3 “There are only two ways to live your life. One is as though nothing is a miracle. The other is as though everything is a miracle.”\n",
       "4 “The person, be it gentleman or lady, who has not pleasure in a good novel, must be intolerably stupid.”                           \n",
       "5 “Imperfection is beauty, madness is genius and it's better to be absolutely ridiculous than absolutely boring.”                    \n",
       "6 “Try not to become a man of success. Rather become a man of value.”                                                                \n",
       "  .x..i...1      \n",
       "1 Albert Einstein\n",
       "2 J.K. Rowling   \n",
       "3 Albert Einstein\n",
       "4 Jane Austen    \n",
       "5 Marilyn Monroe \n",
       "6 Albert Einstein"
      ]
     },
     "metadata": {},
     "output_type": "display_data"
    }
   ],
   "source": [
    "#Preview the first few rows of the data frame\n",
    "head(DF)"
   ]
  },
  {
   "cell_type": "code",
   "execution_count": 10,
   "metadata": {},
   "outputs": [],
   "source": [
    "#Export the dataframe to a csv file\n",
    "write.csv(DF, file = \"C:/Users/Steve/Desktop/scraped.csv\")"
   ]
  },
  {
   "cell_type": "code",
   "execution_count": null,
   "metadata": {},
   "outputs": [],
   "source": []
  }
 ],
 "metadata": {
  "kernelspec": {
   "display_name": "R",
   "language": "R",
   "name": "ir"
  },
  "language_info": {
   "codemirror_mode": "r",
   "file_extension": ".r",
   "mimetype": "text/x-r-source",
   "name": "R",
   "pygments_lexer": "r",
   "version": "4.0.0"
  }
 },
 "nbformat": 4,
 "nbformat_minor": 2
}
